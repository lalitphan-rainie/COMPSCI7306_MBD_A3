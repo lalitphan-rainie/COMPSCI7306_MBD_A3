{
 "cells": [
  {
   "cell_type": "markdown",
   "id": "a8b837c3",
   "metadata": {},
   "source": [
    "## Assignment 3: Pattern Mining and Recommender Systems\n",
    "\n",
    "### Task 2: Collaborative Filtering\n",
    "### Lalitphan Sae-teoh, a1932456, Version 01"
   ]
  },
  {
   "cell_type": "markdown",
   "id": "63781c0b",
   "metadata": {},
   "source": [
    "### Import Libraries"
   ]
  },
  {
   "cell_type": "code",
   "execution_count": 3,
   "metadata": {},
   "outputs": [],
   "source": [
    "import pandas as pd\n",
    "import numpy as np\n",
    "\n",
    "import implicit\n",
    "from scipy.sparse import csr_matrix\n",
    "\n",
    "import matplotlib.pyplot as plt\n",
    "import seaborn as sns"
   ]
  },
  {
   "cell_type": "markdown",
   "id": "fb3411ba",
   "metadata": {},
   "source": [
    "### Read Dataset"
   ]
  },
  {
   "cell_type": "code",
   "execution_count": 4,
   "id": "7318f036",
   "metadata": {},
   "outputs": [
    {
     "data": {
      "text/html": [
       "<div>\n",
       "<style scoped>\n",
       "    .dataframe tbody tr th:only-of-type {\n",
       "        vertical-align: middle;\n",
       "    }\n",
       "\n",
       "    .dataframe tbody tr th {\n",
       "        vertical-align: top;\n",
       "    }\n",
       "\n",
       "    .dataframe thead th {\n",
       "        text-align: right;\n",
       "    }\n",
       "</style>\n",
       "<table border=\"1\" class=\"dataframe\">\n",
       "  <thead>\n",
       "    <tr style=\"text-align: right;\">\n",
       "      <th></th>\n",
       "      <th>User_id</th>\n",
       "      <th>Date</th>\n",
       "      <th>itemDescription</th>\n",
       "      <th>year</th>\n",
       "      <th>month</th>\n",
       "      <th>day</th>\n",
       "      <th>day_of_week</th>\n",
       "    </tr>\n",
       "    <tr>\n",
       "      <th>datetime</th>\n",
       "      <th></th>\n",
       "      <th></th>\n",
       "      <th></th>\n",
       "      <th></th>\n",
       "      <th></th>\n",
       "      <th></th>\n",
       "      <th></th>\n",
       "    </tr>\n",
       "  </thead>\n",
       "  <tbody>\n",
       "    <tr>\n",
       "      <th>2014-01-01</th>\n",
       "      <td>2351</td>\n",
       "      <td>1/01/2014</td>\n",
       "      <td>cleaner</td>\n",
       "      <td>2014</td>\n",
       "      <td>1</td>\n",
       "      <td>1</td>\n",
       "      <td>2</td>\n",
       "    </tr>\n",
       "    <tr>\n",
       "      <th>2014-01-01</th>\n",
       "      <td>2226</td>\n",
       "      <td>1/01/2014</td>\n",
       "      <td>sausage</td>\n",
       "      <td>2014</td>\n",
       "      <td>1</td>\n",
       "      <td>1</td>\n",
       "      <td>2</td>\n",
       "    </tr>\n",
       "    <tr>\n",
       "      <th>2014-01-01</th>\n",
       "      <td>1922</td>\n",
       "      <td>1/01/2014</td>\n",
       "      <td>tropical fruit</td>\n",
       "      <td>2014</td>\n",
       "      <td>1</td>\n",
       "      <td>1</td>\n",
       "      <td>2</td>\n",
       "    </tr>\n",
       "    <tr>\n",
       "      <th>2014-01-01</th>\n",
       "      <td>2943</td>\n",
       "      <td>1/01/2014</td>\n",
       "      <td>whole milk</td>\n",
       "      <td>2014</td>\n",
       "      <td>1</td>\n",
       "      <td>1</td>\n",
       "      <td>2</td>\n",
       "    </tr>\n",
       "    <tr>\n",
       "      <th>2014-01-01</th>\n",
       "      <td>1249</td>\n",
       "      <td>1/01/2014</td>\n",
       "      <td>citrus fruit</td>\n",
       "      <td>2014</td>\n",
       "      <td>1</td>\n",
       "      <td>1</td>\n",
       "      <td>2</td>\n",
       "    </tr>\n",
       "  </tbody>\n",
       "</table>\n",
       "</div>"
      ],
      "text/plain": [
       "            User_id       Date itemDescription  year  month  day  day_of_week\n",
       "datetime                                                                     \n",
       "2014-01-01     2351  1/01/2014         cleaner  2014      1    1            2\n",
       "2014-01-01     2226  1/01/2014         sausage  2014      1    1            2\n",
       "2014-01-01     1922  1/01/2014  tropical fruit  2014      1    1            2\n",
       "2014-01-01     2943  1/01/2014      whole milk  2014      1    1            2\n",
       "2014-01-01     1249  1/01/2014    citrus fruit  2014      1    1            2"
      ]
     },
     "execution_count": 4,
     "metadata": {},
     "output_type": "execute_result"
    }
   ],
   "source": [
    "df = pd.read_csv('./data/Groceries data train.csv')\n",
    "df.dropna(subset=[\"User_id\"], inplace=True)\n",
    "df = df.astype({'User_id': 'int', 'year': 'int', 'month': 'int', 'day': 'int', 'day_of_week': 'int'})\n",
    "df['datetime'] = pd.to_datetime(df['Date'], dayfirst=True).dt.date\n",
    "df.set_index('datetime', inplace=True)\n",
    "df.sort_index(inplace=True)\n",
    "df.head()"
   ]
  },
  {
   "cell_type": "code",
   "execution_count": 5,
   "id": "b4ee293c",
   "metadata": {},
   "outputs": [
    {
     "name": "stdout",
     "output_type": "stream",
     "text": [
      "<class 'pandas.core.frame.DataFrame'>\n",
      "Index: 19382 entries, 2014-01-01 to 2015-01-20\n",
      "Data columns (total 7 columns):\n",
      " #   Column           Non-Null Count  Dtype \n",
      "---  ------           --------------  ----- \n",
      " 0   User_id          19382 non-null  int32 \n",
      " 1   Date             19382 non-null  object\n",
      " 2   itemDescription  19382 non-null  object\n",
      " 3   year             19382 non-null  int32 \n",
      " 4   month            19382 non-null  int32 \n",
      " 5   day              19382 non-null  int32 \n",
      " 6   day_of_week      19382 non-null  int32 \n",
      "dtypes: int32(5), object(2)\n",
      "memory usage: 832.8+ KB\n"
     ]
    }
   ],
   "source": [
    "df.info()"
   ]
  },
  {
   "cell_type": "markdown",
   "id": "3cb9bba2",
   "metadata": {},
   "source": [
    "### Data Analysis"
   ]
  },
  {
   "cell_type": "code",
   "execution_count": 6,
   "id": "abe10a40",
   "metadata": {},
   "outputs": [
    {
     "data": {
      "text/plain": [
       "19382"
      ]
     },
     "execution_count": 6,
     "metadata": {},
     "output_type": "execute_result"
    }
   ],
   "source": [
    "len(df)"
   ]
  },
  {
   "cell_type": "code",
   "execution_count": 7,
   "id": "cb16bd1e",
   "metadata": {},
   "outputs": [
    {
     "name": "stdout",
     "output_type": "stream",
     "text": [
      "Minimum date: 2014-01-01\n",
      "Maximum date: 2015-01-20\n"
     ]
    }
   ],
   "source": [
    "min_date = df.index.min()\n",
    "max_date = df.index.max()\n",
    "\n",
    "print(\"Minimum date:\", min_date)\n",
    "print(\"Maximum date:\", max_date)"
   ]
  },
  {
   "cell_type": "code",
   "execution_count": 8,
   "id": "8e900452",
   "metadata": {},
   "outputs": [
    {
     "name": "stdout",
     "output_type": "stream",
     "text": [
      "Total User:\n",
      " 3493\n"
     ]
    }
   ],
   "source": [
    "users = df['User_id'].unique()\n",
    "print(\"Total User:\\n\", len(users))"
   ]
  },
  {
   "cell_type": "code",
   "execution_count": 9,
   "id": "0b9d9402",
   "metadata": {},
   "outputs": [
    {
     "name": "stdout",
     "output_type": "stream",
     "text": [
      "Total:\n",
      " 167\n",
      "Items:\n",
      " ['cleaner' 'sausage' 'tropical fruit' 'whole milk' 'citrus fruit' 'onions'\n",
      " 'other vegetables' 'berries' 'hamburger meat' 'bottled water' 'butter'\n",
      " 'yogurt' 'waffles' 'soda' 'sliced cheese' 'curd' 'specialty chocolate'\n",
      " 'shopping bags' 'flower (seeds)' 'coffee' 'whipped/sour cream'\n",
      " 'frozen potato products' 'candles' 'bottled beer' 'Instant food products'\n",
      " 'frozen vegetables' 'brown bread' 'domestic eggs' 'dishes' 'chocolate'\n",
      " 'pip fruit' 'frankfurter' 'sugar' 'beef' 'meat' 'root vegetables'\n",
      " 'pastry' 'ice cream' 'rolls/buns' 'chicken' 'white bread' 'frozen fish'\n",
      " 'sparkling wine' 'cream cheese ' 'fruit/vegetable juice' 'condensed milk'\n",
      " 'soft cheese' 'canned beer' 'candy' 'dessert']\n"
     ]
    }
   ],
   "source": [
    "items = df['itemDescription'].unique()\n",
    "print(\"Total:\\n\", len(items))\n",
    "print(\"Items:\\n\", items[:50])"
   ]
  },
  {
   "cell_type": "markdown",
   "id": "8f811a39",
   "metadata": {},
   "source": [
    "Visualization of Top 20 items"
   ]
  },
  {
   "cell_type": "code",
   "execution_count": 47,
   "id": "5810547d",
   "metadata": {},
   "outputs": [
    {
     "data": {
      "image/png": "[encoded data removed]",
      "text/plain": [
       "<Figure size 640x480 with 1 Axes>"
      ]
     },
     "metadata": {},
     "output_type": "display_data"
    }
   ],
   "source": [
    "item_counts = df['itemDescription'].value_counts()[:20]\n",
    "\n",
    "item_counts.plot.bar()\n",
    "plt.title('Top 20 Items')\n",
    "plt.xlabel('Items')\n",
    "plt.ylabel('Frequency')\n",
    "plt.show()"
   ]
  },
  {
   "cell_type": "markdown",
   "id": "6b3b2fd0",
   "metadata": {},
   "source": [
    "Visualize Users Purchasing Distribution"
   ]
  },
  {
   "cell_type": "code",
   "execution_count": 1,
   "id": "afbed7fa",
   "metadata": {},
   "outputs": [
    {
     "ename": "NameError",
     "evalue": "name 'df' is not defined",
     "output_type": "error",
     "traceback": [
      "\u001b[1;31m---------------------------------------------------------------------------\u001b[0m",
      "\u001b[1;31mNameError\u001b[0m                                 Traceback (most recent call last)",
      "Cell \u001b[1;32mIn[1], line 1\u001b[0m\n\u001b[1;32m----> 1\u001b[0m user_purchase_counts \u001b[38;5;241m=\u001b[39m df[\u001b[38;5;124m'\u001b[39m\u001b[38;5;124mUser_id\u001b[39m\u001b[38;5;124m'\u001b[39m]\u001b[38;5;241m.\u001b[39mvalue_counts()\n\u001b[0;32m      3\u001b[0m user_purchase_counts\u001b[38;5;241m.\u001b[39mhist(bins\u001b[38;5;241m=\u001b[39m\u001b[38;5;241m20\u001b[39m)\n\u001b[0;32m      4\u001b[0m plt\u001b[38;5;241m.\u001b[39mtitle(\u001b[38;5;124m'\u001b[39m\u001b[38;5;124mUsers Purchasing Distribution\u001b[39m\u001b[38;5;124m'\u001b[39m)\n",
      "\u001b[1;31mNameError\u001b[0m: name 'df' is not defined"
     ]
    }
   ],
   "source": [
    "user_purchase_counts = df['User_id'].value_counts()\n",
    "\n",
    "user_purchase_counts.hist(bins=20)\n",
    "plt.title('Users Purchasing Distribution')\n",
    "plt.xlabel('Users')\n",
    "plt.ylabel('Frequency')\n",
    "plt.grid(False)\n",
    "plt.show()"
   ]
  },
  {
   "cell_type": "code",
   "execution_count": 60,
   "id": "8cbdc198",
   "metadata": {},
   "outputs": [
    {
     "data": {
      "text/plain": [
       "User_id\n",
       "3247    24\n",
       "4941    23\n",
       "1410    21\n",
       "1169    21\n",
       "1466    21\n",
       "3221    20\n",
       "4272    20\n",
       "4297    19\n",
       "1004    19\n",
       "4683    19\n",
       "Name: count, dtype: int64"
      ]
     },
     "execution_count": 60,
     "metadata": {},
     "output_type": "execute_result"
    }
   ],
   "source": [
    "# Top 20 users\n",
    "user_purchase_counts[:10]"
   ]
  },
  {
   "cell_type": "markdown",
   "id": "c8fe1f63",
   "metadata": {},
   "source": [
    "Find average items (total items & unique items) sales / users - for users threshold"
   ]
  },
  {
   "cell_type": "code",
   "execution_count": 11,
   "id": "e152028d",
   "metadata": {},
   "outputs": [
    {
     "data": {
      "text/html": [
       "<div>\n",
       "<style scoped>\n",
       "    .dataframe tbody tr th:only-of-type {\n",
       "        vertical-align: middle;\n",
       "    }\n",
       "\n",
       "    .dataframe tbody tr th {\n",
       "        vertical-align: top;\n",
       "    }\n",
       "\n",
       "    .dataframe thead th {\n",
       "        text-align: right;\n",
       "    }\n",
       "</style>\n",
       "<table border=\"1\" class=\"dataframe\">\n",
       "  <thead>\n",
       "    <tr style=\"text-align: right;\">\n",
       "      <th></th>\n",
       "      <th>User_id</th>\n",
       "      <th>unique_items_count</th>\n",
       "    </tr>\n",
       "  </thead>\n",
       "  <tbody>\n",
       "    <tr>\n",
       "      <th>0</th>\n",
       "      <td>1000</td>\n",
       "      <td>3</td>\n",
       "    </tr>\n",
       "    <tr>\n",
       "      <th>1</th>\n",
       "      <td>1001</td>\n",
       "      <td>5</td>\n",
       "    </tr>\n",
       "    <tr>\n",
       "      <th>2</th>\n",
       "      <td>1002</td>\n",
       "      <td>4</td>\n",
       "    </tr>\n",
       "    <tr>\n",
       "      <th>3</th>\n",
       "      <td>1003</td>\n",
       "      <td>5</td>\n",
       "    </tr>\n",
       "    <tr>\n",
       "      <th>4</th>\n",
       "      <td>1004</td>\n",
       "      <td>15</td>\n",
       "    </tr>\n",
       "  </tbody>\n",
       "</table>\n",
       "</div>"
      ],
      "text/plain": [
       "   User_id  unique_items_count\n",
       "0     1000                   3\n",
       "1     1001                   5\n",
       "2     1002                   4\n",
       "3     1003                   5\n",
       "4     1004                  15"
      ]
     },
     "execution_count": 11,
     "metadata": {},
     "output_type": "execute_result"
    }
   ],
   "source": [
    "df_items_per_users_count = df.groupby('User_id').agg({\"itemDescription\": [\"nunique\"]}).reset_index()\n",
    "df_items_per_users_count.columns = ['User_id', 'unique_items_count']\n",
    "df_items_per_users_count.head()"
   ]
  },
  {
   "cell_type": "code",
   "execution_count": 12,
   "id": "d6353fb5",
   "metadata": {},
   "outputs": [
    {
     "name": "stdout",
     "output_type": "stream",
     "text": [
      "Total Users:  3493\n",
      "Total Unique Items Sales:  18288\n",
      "Average unique items per user: 5.24\n"
     ]
    }
   ],
   "source": [
    "total_unique_items_sales = df_items_per_users_count['unique_items_count'].sum()\n",
    "total_users = df_items_per_users_count['User_id'].count()\n",
    "\n",
    "avg_items_sales_per_user = total_unique_items_sales / total_users\n",
    "print(\"Total Users: \", total_users)\n",
    "print(\"Total Unique Items Sales: \", total_unique_items_sales)\n",
    "print(f\"Average unique items per user: {avg_items_sales_per_user:.2f}\")"
   ]
  },
  {
   "cell_type": "markdown",
   "id": "52f5b35b",
   "metadata": {},
   "source": [
    "Find popularity of item - average users / items"
   ]
  },
  {
   "cell_type": "code",
   "execution_count": 13,
   "id": "db37459a",
   "metadata": {},
   "outputs": [
    {
     "data": {
      "text/html": [
       "<div>\n",
       "<style scoped>\n",
       "    .dataframe tbody tr th:only-of-type {\n",
       "        vertical-align: middle;\n",
       "    }\n",
       "\n",
       "    .dataframe tbody tr th {\n",
       "        vertical-align: top;\n",
       "    }\n",
       "\n",
       "    .dataframe thead th {\n",
       "        text-align: right;\n",
       "    }\n",
       "</style>\n",
       "<table border=\"1\" class=\"dataframe\">\n",
       "  <thead>\n",
       "    <tr style=\"text-align: right;\">\n",
       "      <th></th>\n",
       "      <th>itemDescription</th>\n",
       "      <th>unique_users_count</th>\n",
       "    </tr>\n",
       "  </thead>\n",
       "  <tbody>\n",
       "    <tr>\n",
       "      <th>0</th>\n",
       "      <td>Instant food products</td>\n",
       "      <td>37</td>\n",
       "    </tr>\n",
       "    <tr>\n",
       "      <th>1</th>\n",
       "      <td>UHT-milk</td>\n",
       "      <td>165</td>\n",
       "    </tr>\n",
       "    <tr>\n",
       "      <th>2</th>\n",
       "      <td>abrasive cleaner</td>\n",
       "      <td>12</td>\n",
       "    </tr>\n",
       "    <tr>\n",
       "      <th>3</th>\n",
       "      <td>artif. sweetener</td>\n",
       "      <td>14</td>\n",
       "    </tr>\n",
       "    <tr>\n",
       "      <th>4</th>\n",
       "      <td>baby cosmetics</td>\n",
       "      <td>1</td>\n",
       "    </tr>\n",
       "  </tbody>\n",
       "</table>\n",
       "</div>"
      ],
      "text/plain": [
       "         itemDescription  unique_users_count\n",
       "0  Instant food products                  37\n",
       "1               UHT-milk                 165\n",
       "2       abrasive cleaner                  12\n",
       "3       artif. sweetener                  14\n",
       "4         baby cosmetics                   1"
      ]
     },
     "execution_count": 13,
     "metadata": {},
     "output_type": "execute_result"
    }
   ],
   "source": [
    "df_users_per_items_count = df.groupby('itemDescription').agg({\"User_id\": [\"nunique\"]}).reset_index()\n",
    "df_users_per_items_count.columns = ['itemDescription', 'unique_users_count']\n",
    "df_users_per_items_count.head()"
   ]
  },
  {
   "cell_type": "code",
   "execution_count": 14,
   "id": "3b6bb7b8",
   "metadata": {},
   "outputs": [
    {
     "name": "stdout",
     "output_type": "stream",
     "text": [
      "Total Items:  167\n",
      "Total Users Bought:  18288\n",
      "Average unique users per item: 109.51\n"
     ]
    }
   ],
   "source": [
    "total_users_bought = df_users_per_items_count['unique_users_count'].sum()\n",
    "total_items = df_users_per_items_count['itemDescription'].count()\n",
    "\n",
    "avg_users_per_item = total_users_bought / total_items\n",
    "print(\"Total Items: \", total_items)\n",
    "print(\"Total Users Bought: \", total_users_bought)\n",
    "print(f\"Average unique users per item: {avg_users_per_item:.2f}\")"
   ]
  },
  {
   "cell_type": "markdown",
   "id": "175ad13a",
   "metadata": {},
   "source": [
    "### Data Preprocessing"
   ]
  },
  {
   "cell_type": "markdown",
   "id": "ddd90dc3",
   "metadata": {},
   "source": [
    "Filter users who bought less than 5 items"
   ]
  },
  {
   "cell_type": "code",
   "execution_count": null,
   "id": "45850e93",
   "metadata": {},
   "outputs": [
    {
     "name": "stdout",
     "output_type": "stream",
     "text": [
      "total users = 3493, valid users =  2674 (76.55%)\n",
      "Transactions before remove invalid users: 19382\n",
      "Transactions after remove invalid users: 17735 (91.50%)\n"
     ]
    }
   ],
   "source": [
    "# items_per_user_threshold = 3\n",
    "\n",
    "# mask = df_items_per_users_count[\"unique_items_count\"] >= items_per_user_threshold\n",
    "# valid_users = set(df_items_per_users_count.loc[mask, \"User_id\"].tolist())\n",
    "# print(f\"total users = {len(users)}, valid users =  {len(valid_users)} ({len(valid_users)/len(users)*100:.2f}%)\")\n",
    "\n",
    "# df_filter_users = df[df[\"User_id\"].isin(valid_users)].copy()\n",
    "# print(f\"Transactions before remove invalid users: {len(df)}\")\n",
    "# print(f\"Transactions after remove invalid users: {len(df_filter_users)} ({len(df_filter_users)/len(df)*100:.2f}%)\")"
   ]
  },
  {
   "cell_type": "markdown",
   "id": "6e24aac3",
   "metadata": {},
   "source": [
    "Filter less popular items"
   ]
  },
  {
   "cell_type": "code",
   "execution_count": null,
   "id": "0b99fd70",
   "metadata": {},
   "outputs": [
    {
     "name": "stdout",
     "output_type": "stream",
     "text": [
      "total items = 167, valid items =  158 (94.61%)\n",
      "Transactions after remove invalid items: 17717 (91.41%)\n"
     ]
    }
   ],
   "source": [
    "# users_per_item_threshold = 5\n",
    "\n",
    "# mask = df_users_per_items_count[\"unique_users_count\"] >= users_per_item_threshold\n",
    "# valid_items = set(df_users_per_items_count.loc[mask, \"itemDescription\"].tolist())\n",
    "# print(f\"total items = {len(items)}, valid items =  {len(valid_items)} ({len(valid_items)/len(items)*100:.2f}%)\")\n",
    "\n",
    "# df_filter_users_items = df_filter_users[df_filter_users[\"itemDescription\"].isin(valid_items)].copy()\n",
    "# print(f\"Transactions after remove invalid items: {len(df_filter_users_items)} ({len(df_filter_users_items)/len(df)*100:.2f}%)\")"
   ]
  },
  {
   "cell_type": "markdown",
   "id": "f9e63f4b",
   "metadata": {},
   "source": [
    "As our dataset is implicit feedback, it would be logical to assign values to every variable. It is set to 0 when there isn't a purchase on record."
   ]
  },
  {
   "cell_type": "code",
   "execution_count": 17,
   "id": "321f4a01",
   "metadata": {},
   "outputs": [
    {
     "data": {
      "text/html": [
       "<div>\n",
       "<style scoped>\n",
       "    .dataframe tbody tr th:only-of-type {\n",
       "        vertical-align: middle;\n",
       "    }\n",
       "\n",
       "    .dataframe tbody tr th {\n",
       "        vertical-align: top;\n",
       "    }\n",
       "\n",
       "    .dataframe thead th {\n",
       "        text-align: right;\n",
       "    }\n",
       "</style>\n",
       "<table border=\"1\" class=\"dataframe\">\n",
       "  <thead>\n",
       "    <tr style=\"text-align: right;\">\n",
       "      <th>itemDescription</th>\n",
       "      <th>Instant food products</th>\n",
       "      <th>UHT-milk</th>\n",
       "      <th>abrasive cleaner</th>\n",
       "      <th>artif. sweetener</th>\n",
       "      <th>baby cosmetics</th>\n",
       "      <th>bags</th>\n",
       "      <th>baking powder</th>\n",
       "      <th>bathroom cleaner</th>\n",
       "      <th>beef</th>\n",
       "      <th>berries</th>\n",
       "      <th>...</th>\n",
       "      <th>turkey</th>\n",
       "      <th>vinegar</th>\n",
       "      <th>waffles</th>\n",
       "      <th>whipped/sour cream</th>\n",
       "      <th>whisky</th>\n",
       "      <th>white bread</th>\n",
       "      <th>white wine</th>\n",
       "      <th>whole milk</th>\n",
       "      <th>yogurt</th>\n",
       "      <th>zwieback</th>\n",
       "    </tr>\n",
       "    <tr>\n",
       "      <th>User_id</th>\n",
       "      <th></th>\n",
       "      <th></th>\n",
       "      <th></th>\n",
       "      <th></th>\n",
       "      <th></th>\n",
       "      <th></th>\n",
       "      <th></th>\n",
       "      <th></th>\n",
       "      <th></th>\n",
       "      <th></th>\n",
       "      <th></th>\n",
       "      <th></th>\n",
       "      <th></th>\n",
       "      <th></th>\n",
       "      <th></th>\n",
       "      <th></th>\n",
       "      <th></th>\n",
       "      <th></th>\n",
       "      <th></th>\n",
       "      <th></th>\n",
       "      <th></th>\n",
       "    </tr>\n",
       "  </thead>\n",
       "  <tbody>\n",
       "    <tr>\n",
       "      <th>1000</th>\n",
       "      <td>0.0</td>\n",
       "      <td>0.0</td>\n",
       "      <td>0.0</td>\n",
       "      <td>0.0</td>\n",
       "      <td>0.0</td>\n",
       "      <td>0.0</td>\n",
       "      <td>0.0</td>\n",
       "      <td>0.0</td>\n",
       "      <td>0.0</td>\n",
       "      <td>0.0</td>\n",
       "      <td>...</td>\n",
       "      <td>0.0</td>\n",
       "      <td>0.0</td>\n",
       "      <td>0.0</td>\n",
       "      <td>0.0</td>\n",
       "      <td>0.0</td>\n",
       "      <td>0.0</td>\n",
       "      <td>0.0</td>\n",
       "      <td>1.0</td>\n",
       "      <td>0.0</td>\n",
       "      <td>0.0</td>\n",
       "    </tr>\n",
       "    <tr>\n",
       "      <th>1001</th>\n",
       "      <td>0.0</td>\n",
       "      <td>0.0</td>\n",
       "      <td>0.0</td>\n",
       "      <td>0.0</td>\n",
       "      <td>0.0</td>\n",
       "      <td>0.0</td>\n",
       "      <td>0.0</td>\n",
       "      <td>0.0</td>\n",
       "      <td>0.0</td>\n",
       "      <td>0.0</td>\n",
       "      <td>...</td>\n",
       "      <td>0.0</td>\n",
       "      <td>0.0</td>\n",
       "      <td>0.0</td>\n",
       "      <td>0.0</td>\n",
       "      <td>0.0</td>\n",
       "      <td>0.0</td>\n",
       "      <td>0.0</td>\n",
       "      <td>2.0</td>\n",
       "      <td>0.0</td>\n",
       "      <td>0.0</td>\n",
       "    </tr>\n",
       "    <tr>\n",
       "      <th>1002</th>\n",
       "      <td>0.0</td>\n",
       "      <td>0.0</td>\n",
       "      <td>0.0</td>\n",
       "      <td>0.0</td>\n",
       "      <td>0.0</td>\n",
       "      <td>0.0</td>\n",
       "      <td>0.0</td>\n",
       "      <td>0.0</td>\n",
       "      <td>0.0</td>\n",
       "      <td>0.0</td>\n",
       "      <td>...</td>\n",
       "      <td>0.0</td>\n",
       "      <td>0.0</td>\n",
       "      <td>0.0</td>\n",
       "      <td>0.0</td>\n",
       "      <td>0.0</td>\n",
       "      <td>0.0</td>\n",
       "      <td>0.0</td>\n",
       "      <td>1.0</td>\n",
       "      <td>0.0</td>\n",
       "      <td>0.0</td>\n",
       "    </tr>\n",
       "    <tr>\n",
       "      <th>1003</th>\n",
       "      <td>0.0</td>\n",
       "      <td>0.0</td>\n",
       "      <td>0.0</td>\n",
       "      <td>0.0</td>\n",
       "      <td>0.0</td>\n",
       "      <td>0.0</td>\n",
       "      <td>0.0</td>\n",
       "      <td>0.0</td>\n",
       "      <td>0.0</td>\n",
       "      <td>0.0</td>\n",
       "      <td>...</td>\n",
       "      <td>0.0</td>\n",
       "      <td>0.0</td>\n",
       "      <td>0.0</td>\n",
       "      <td>0.0</td>\n",
       "      <td>0.0</td>\n",
       "      <td>0.0</td>\n",
       "      <td>0.0</td>\n",
       "      <td>0.0</td>\n",
       "      <td>0.0</td>\n",
       "      <td>0.0</td>\n",
       "    </tr>\n",
       "    <tr>\n",
       "      <th>1004</th>\n",
       "      <td>0.0</td>\n",
       "      <td>0.0</td>\n",
       "      <td>0.0</td>\n",
       "      <td>0.0</td>\n",
       "      <td>0.0</td>\n",
       "      <td>0.0</td>\n",
       "      <td>0.0</td>\n",
       "      <td>0.0</td>\n",
       "      <td>0.0</td>\n",
       "      <td>0.0</td>\n",
       "      <td>...</td>\n",
       "      <td>0.0</td>\n",
       "      <td>0.0</td>\n",
       "      <td>0.0</td>\n",
       "      <td>0.0</td>\n",
       "      <td>0.0</td>\n",
       "      <td>0.0</td>\n",
       "      <td>0.0</td>\n",
       "      <td>3.0</td>\n",
       "      <td>0.0</td>\n",
       "      <td>0.0</td>\n",
       "    </tr>\n",
       "    <tr>\n",
       "      <th>...</th>\n",
       "      <td>...</td>\n",
       "      <td>...</td>\n",
       "      <td>...</td>\n",
       "      <td>...</td>\n",
       "      <td>...</td>\n",
       "      <td>...</td>\n",
       "      <td>...</td>\n",
       "      <td>...</td>\n",
       "      <td>...</td>\n",
       "      <td>...</td>\n",
       "      <td>...</td>\n",
       "      <td>...</td>\n",
       "      <td>...</td>\n",
       "      <td>...</td>\n",
       "      <td>...</td>\n",
       "      <td>...</td>\n",
       "      <td>...</td>\n",
       "      <td>...</td>\n",
       "      <td>...</td>\n",
       "      <td>...</td>\n",
       "      <td>...</td>\n",
       "    </tr>\n",
       "    <tr>\n",
       "      <th>4993</th>\n",
       "      <td>0.0</td>\n",
       "      <td>0.0</td>\n",
       "      <td>1.0</td>\n",
       "      <td>0.0</td>\n",
       "      <td>0.0</td>\n",
       "      <td>0.0</td>\n",
       "      <td>0.0</td>\n",
       "      <td>0.0</td>\n",
       "      <td>0.0</td>\n",
       "      <td>0.0</td>\n",
       "      <td>...</td>\n",
       "      <td>0.0</td>\n",
       "      <td>0.0</td>\n",
       "      <td>0.0</td>\n",
       "      <td>0.0</td>\n",
       "      <td>0.0</td>\n",
       "      <td>0.0</td>\n",
       "      <td>0.0</td>\n",
       "      <td>0.0</td>\n",
       "      <td>0.0</td>\n",
       "      <td>0.0</td>\n",
       "    </tr>\n",
       "    <tr>\n",
       "      <th>4995</th>\n",
       "      <td>0.0</td>\n",
       "      <td>0.0</td>\n",
       "      <td>0.0</td>\n",
       "      <td>0.0</td>\n",
       "      <td>0.0</td>\n",
       "      <td>0.0</td>\n",
       "      <td>0.0</td>\n",
       "      <td>0.0</td>\n",
       "      <td>0.0</td>\n",
       "      <td>0.0</td>\n",
       "      <td>...</td>\n",
       "      <td>0.0</td>\n",
       "      <td>0.0</td>\n",
       "      <td>0.0</td>\n",
       "      <td>0.0</td>\n",
       "      <td>0.0</td>\n",
       "      <td>0.0</td>\n",
       "      <td>0.0</td>\n",
       "      <td>0.0</td>\n",
       "      <td>0.0</td>\n",
       "      <td>0.0</td>\n",
       "    </tr>\n",
       "    <tr>\n",
       "      <th>4997</th>\n",
       "      <td>0.0</td>\n",
       "      <td>0.0</td>\n",
       "      <td>0.0</td>\n",
       "      <td>0.0</td>\n",
       "      <td>0.0</td>\n",
       "      <td>0.0</td>\n",
       "      <td>0.0</td>\n",
       "      <td>0.0</td>\n",
       "      <td>0.0</td>\n",
       "      <td>0.0</td>\n",
       "      <td>...</td>\n",
       "      <td>0.0</td>\n",
       "      <td>0.0</td>\n",
       "      <td>0.0</td>\n",
       "      <td>0.0</td>\n",
       "      <td>0.0</td>\n",
       "      <td>0.0</td>\n",
       "      <td>0.0</td>\n",
       "      <td>1.0</td>\n",
       "      <td>0.0</td>\n",
       "      <td>0.0</td>\n",
       "    </tr>\n",
       "    <tr>\n",
       "      <th>4999</th>\n",
       "      <td>0.0</td>\n",
       "      <td>0.0</td>\n",
       "      <td>0.0</td>\n",
       "      <td>0.0</td>\n",
       "      <td>0.0</td>\n",
       "      <td>0.0</td>\n",
       "      <td>0.0</td>\n",
       "      <td>0.0</td>\n",
       "      <td>0.0</td>\n",
       "      <td>0.0</td>\n",
       "      <td>...</td>\n",
       "      <td>0.0</td>\n",
       "      <td>0.0</td>\n",
       "      <td>0.0</td>\n",
       "      <td>0.0</td>\n",
       "      <td>0.0</td>\n",
       "      <td>0.0</td>\n",
       "      <td>0.0</td>\n",
       "      <td>0.0</td>\n",
       "      <td>0.0</td>\n",
       "      <td>0.0</td>\n",
       "    </tr>\n",
       "    <tr>\n",
       "      <th>5000</th>\n",
       "      <td>0.0</td>\n",
       "      <td>0.0</td>\n",
       "      <td>0.0</td>\n",
       "      <td>0.0</td>\n",
       "      <td>0.0</td>\n",
       "      <td>0.0</td>\n",
       "      <td>0.0</td>\n",
       "      <td>0.0</td>\n",
       "      <td>0.0</td>\n",
       "      <td>0.0</td>\n",
       "      <td>...</td>\n",
       "      <td>0.0</td>\n",
       "      <td>0.0</td>\n",
       "      <td>0.0</td>\n",
       "      <td>0.0</td>\n",
       "      <td>0.0</td>\n",
       "      <td>0.0</td>\n",
       "      <td>0.0</td>\n",
       "      <td>0.0</td>\n",
       "      <td>0.0</td>\n",
       "      <td>0.0</td>\n",
       "    </tr>\n",
       "  </tbody>\n",
       "</table>\n",
       "<p>3493 rows × 167 columns</p>\n",
       "</div>"
      ],
      "text/plain": [
       "itemDescription  Instant food products  UHT-milk  abrasive cleaner  \\\n",
       "User_id                                                              \n",
       "1000                               0.0       0.0               0.0   \n",
       "1001                               0.0       0.0               0.0   \n",
       "1002                               0.0       0.0               0.0   \n",
       "1003                               0.0       0.0               0.0   \n",
       "1004                               0.0       0.0               0.0   \n",
       "...                                ...       ...               ...   \n",
       "4993                               0.0       0.0               1.0   \n",
       "4995                               0.0       0.0               0.0   \n",
       "4997                               0.0       0.0               0.0   \n",
       "4999                               0.0       0.0               0.0   \n",
       "5000                               0.0       0.0               0.0   \n",
       "\n",
       "itemDescription  artif. sweetener  baby cosmetics  bags  baking powder  \\\n",
       "User_id                                                                  \n",
       "1000                          0.0             0.0   0.0            0.0   \n",
       "1001                          0.0             0.0   0.0            0.0   \n",
       "1002                          0.0             0.0   0.0            0.0   \n",
       "1003                          0.0             0.0   0.0            0.0   \n",
       "1004                          0.0             0.0   0.0            0.0   \n",
       "...                           ...             ...   ...            ...   \n",
       "4993                          0.0             0.0   0.0            0.0   \n",
       "4995                          0.0             0.0   0.0            0.0   \n",
       "4997                          0.0             0.0   0.0            0.0   \n",
       "4999                          0.0             0.0   0.0            0.0   \n",
       "5000                          0.0             0.0   0.0            0.0   \n",
       "\n",
       "itemDescription  bathroom cleaner  beef  berries  ...  turkey  vinegar  \\\n",
       "User_id                                           ...                    \n",
       "1000                          0.0   0.0      0.0  ...     0.0      0.0   \n",
       "1001                          0.0   0.0      0.0  ...     0.0      0.0   \n",
       "1002                          0.0   0.0      0.0  ...     0.0      0.0   \n",
       "1003                          0.0   0.0      0.0  ...     0.0      0.0   \n",
       "1004                          0.0   0.0      0.0  ...     0.0      0.0   \n",
       "...                           ...   ...      ...  ...     ...      ...   \n",
       "4993                          0.0   0.0      0.0  ...     0.0      0.0   \n",
       "4995                          0.0   0.0      0.0  ...     0.0      0.0   \n",
       "4997                          0.0   0.0      0.0  ...     0.0      0.0   \n",
       "4999                          0.0   0.0      0.0  ...     0.0      0.0   \n",
       "5000                          0.0   0.0      0.0  ...     0.0      0.0   \n",
       "\n",
       "itemDescription  waffles  whipped/sour cream  whisky  white bread  white wine  \\\n",
       "User_id                                                                         \n",
       "1000                 0.0                 0.0     0.0          0.0         0.0   \n",
       "1001                 0.0                 0.0     0.0          0.0         0.0   \n",
       "1002                 0.0                 0.0     0.0          0.0         0.0   \n",
       "1003                 0.0                 0.0     0.0          0.0         0.0   \n",
       "1004                 0.0                 0.0     0.0          0.0         0.0   \n",
       "...                  ...                 ...     ...          ...         ...   \n",
       "4993                 0.0                 0.0     0.0          0.0         0.0   \n",
       "4995                 0.0                 0.0     0.0          0.0         0.0   \n",
       "4997                 0.0                 0.0     0.0          0.0         0.0   \n",
       "4999                 0.0                 0.0     0.0          0.0         0.0   \n",
       "5000                 0.0                 0.0     0.0          0.0         0.0   \n",
       "\n",
       "itemDescription  whole milk  yogurt  zwieback  \n",
       "User_id                                        \n",
       "1000                    1.0     0.0       0.0  \n",
       "1001                    2.0     0.0       0.0  \n",
       "1002                    1.0     0.0       0.0  \n",
       "1003                    0.0     0.0       0.0  \n",
       "1004                    3.0     0.0       0.0  \n",
       "...                     ...     ...       ...  \n",
       "4993                    0.0     0.0       0.0  \n",
       "4995                    0.0     0.0       0.0  \n",
       "4997                    1.0     0.0       0.0  \n",
       "4999                    0.0     0.0       0.0  \n",
       "5000                    0.0     0.0       0.0  \n",
       "\n",
       "[3493 rows x 167 columns]"
      ]
     },
     "execution_count": 17,
     "metadata": {},
     "output_type": "execute_result"
    }
   ],
   "source": [
    "df_user_items = df.groupby(['User_id', 'itemDescription']).agg({'Date':['count']}).reset_index()\n",
    "df_user_items.columns = ['User_id', 'itemDescription', 'Quantity']\n",
    "user_items_matrix = df_user_items.pivot(index=\"User_id\", columns=\"itemDescription\", values=\"Quantity\")\n",
    "user_items_matrix.fillna(0, inplace=True)\n",
    "user_items_matrix"
   ]
  },
  {
   "cell_type": "code",
   "execution_count": 24,
   "id": "bef94714",
   "metadata": {},
   "outputs": [
    {
     "name": "stdout",
     "output_type": "stream",
     "text": [
      "  (0, 105)\t1.0\n",
      "  (0, 128)\t1.0\n",
      "  (0, 164)\t1.0\n",
      "  (1, 56)\t1.0\n",
      "  (1, 122)\t1.0\n",
      "  (1, 130)\t1.0\n",
      "  (1, 138)\t2.0\n",
      "  (1, 164)\t2.0\n",
      "  (2, 15)\t1.0\n",
      "  (2, 63)\t1.0\n",
      "  (2, 102)\t1.0\n",
      "  (2, 164)\t1.0\n"
     ]
    }
   ],
   "source": [
    "sparse_matrix = csr_matrix(user_items_matrix.values)\n",
    "print(sparse_matrix[:3])"
   ]
  },
  {
   "cell_type": "markdown",
   "id": "c2773ff6",
   "metadata": {},
   "source": [
    "### Model Implementation"
   ]
  },
  {
   "cell_type": "code",
   "execution_count": 25,
   "id": "8bf5fef9",
   "metadata": {},
   "outputs": [
    {
     "name": "stderr",
     "output_type": "stream",
     "text": [
      "c:\\Users\\lalit\\anaconda3_2\\Lib\\site-packages\\implicit\\cpu\\als.py:95: RuntimeWarning: OpenBLAS is configured to use 8 threads. It is highly recommended to disable its internal threadpool by setting the environment variable 'OPENBLAS_NUM_THREADS=1' or by calling 'threadpoolctl.threadpool_limits(1, \"blas\")'. Having OpenBLAS use a threadpool can lead to severe performance issues here.\n",
      "  check_blas_config()\n",
      "c:\\Users\\lalit\\anaconda3_2\\Lib\\site-packages\\implicit\\cpu\\als.py:95: RuntimeWarning: Intel MKL BLAS is configured to use 4 threads. It is highly recommended to disable its internal threadpool by setting the environment variable 'MKL_NUM_THREADS=1' or by callng 'threadpoolctl.threadpool_limits(1, \"blas\")'. Having MKL use a threadpool can lead to severe performance issues\n",
      "  check_blas_config()\n",
      "c:\\Users\\lalit\\anaconda3_2\\Lib\\site-packages\\implicit\\utils.py:164: ParameterWarning: Method expects CSR input, and was passed coo_matrix instead. Converting to CSR took 0.0010004043579101562 seconds\n",
      "  warnings.warn(\n"
     ]
    },
    {
     "data": {
      "application/vnd.jupyter.widget-view+json": {
       "model_id": "d0579370440247ae97cefbccf6acdac8",
       "version_major": 2,
       "version_minor": 0
      },
      "text/plain": [
       "  0%|          | 0/20 [00:00<?, ?it/s]"
      ]
     },
     "metadata": {},
     "output_type": "display_data"
    }
   ],
   "source": [
    "from implicit.als import AlternatingLeastSquares\n",
    "from implicit.nearest_neighbours import bm25_weight\n",
    "\n",
    "weighted_matrix = bm25_weight(sparse_matrix.T).T\n",
    "\n",
    "model = AlternatingLeastSquares(factors=50, regularization=0.1, iterations=20)\n",
    "model.fit(weighted_matrix)"
   ]
  },
  {
   "cell_type": "code",
   "execution_count": 37,
   "id": "3cf8eb47",
   "metadata": {},
   "outputs": [
    {
     "data": {
      "text/plain": [
       "[1000, 1001, 1002, 1003, 1004]"
      ]
     },
     "execution_count": 37,
     "metadata": {},
     "output_type": "execute_result"
    }
   ],
   "source": [
    "user_mapping = list(user_items_matrix.index)\n",
    "user_mapping[:5]"
   ]
  },
  {
   "cell_type": "code",
   "execution_count": 66,
   "id": "5a26c14b",
   "metadata": {},
   "outputs": [
    {
     "data": {
      "text/plain": [
       "(array([  6, 151,  49, 150, 143]),\n",
       " array([0.60962766, 0.4456299 , 0.43153936, 0.36012566, 0.34851506],\n",
       "       dtype=float32))"
      ]
     },
     "execution_count": 66,
     "metadata": {},
     "output_type": "execute_result"
    }
   ],
   "source": [
    "# user_id index\n",
    "user_index = user_mapping.index(1004)\n",
    "recommended = model.recommend(user_index, sparse_matrix[user_index], N=5)\n",
    "recommended"
   ]
  },
  {
   "cell_type": "code",
   "execution_count": 67,
   "id": "9347dcee",
   "metadata": {},
   "outputs": [
    {
     "data": {
      "text/plain": [
       "['baking powder', 'sweet spreads', 'domestic eggs', 'sugar', 'specialty bar']"
      ]
     },
     "execution_count": 67,
     "metadata": {},
     "output_type": "execute_result"
    }
   ],
   "source": [
    "item_mapping = list(user_items_matrix.columns)\n",
    "recommended_items = [item_mapping[item_id] for item_id in recommended[0]]\n",
    "recommended_items"
   ]
  },
  {
   "cell_type": "code",
   "execution_count": 68,
   "id": "c5cd4f1e",
   "metadata": {},
   "outputs": [
    {
     "data": {
      "text/html": [
       "<div>\n",
       "<style scoped>\n",
       "    .dataframe tbody tr th:only-of-type {\n",
       "        vertical-align: middle;\n",
       "    }\n",
       "\n",
       "    .dataframe tbody tr th {\n",
       "        vertical-align: top;\n",
       "    }\n",
       "\n",
       "    .dataframe thead th {\n",
       "        text-align: right;\n",
       "    }\n",
       "</style>\n",
       "<table border=\"1\" class=\"dataframe\">\n",
       "  <thead>\n",
       "    <tr style=\"text-align: right;\">\n",
       "      <th></th>\n",
       "      <th>User_id</th>\n",
       "      <th>Date</th>\n",
       "      <th>itemDescription</th>\n",
       "      <th>year</th>\n",
       "      <th>month</th>\n",
       "      <th>day</th>\n",
       "      <th>day_of_week</th>\n",
       "    </tr>\n",
       "    <tr>\n",
       "      <th>datetime</th>\n",
       "      <th></th>\n",
       "      <th></th>\n",
       "      <th></th>\n",
       "      <th></th>\n",
       "      <th></th>\n",
       "      <th></th>\n",
       "      <th></th>\n",
       "    </tr>\n",
       "  </thead>\n",
       "  <tbody>\n",
       "    <tr>\n",
       "      <th>2014-01-05</th>\n",
       "      <td>1004</td>\n",
       "      <td>5/01/2014</td>\n",
       "      <td>dish cleaner</td>\n",
       "      <td>2014</td>\n",
       "      <td>1</td>\n",
       "      <td>5</td>\n",
       "      <td>6</td>\n",
       "    </tr>\n",
       "    <tr>\n",
       "      <th>2014-01-05</th>\n",
       "      <td>1004</td>\n",
       "      <td>5/01/2014</td>\n",
       "      <td>cling film/bags</td>\n",
       "      <td>2014</td>\n",
       "      <td>1</td>\n",
       "      <td>5</td>\n",
       "      <td>6</td>\n",
       "    </tr>\n",
       "    <tr>\n",
       "      <th>2014-01-07</th>\n",
       "      <td>1004</td>\n",
       "      <td>7/01/2014</td>\n",
       "      <td>canned beer</td>\n",
       "      <td>2014</td>\n",
       "      <td>1</td>\n",
       "      <td>7</td>\n",
       "      <td>1</td>\n",
       "    </tr>\n",
       "    <tr>\n",
       "      <th>2014-01-07</th>\n",
       "      <td>1004</td>\n",
       "      <td>7/01/2014</td>\n",
       "      <td>frozen fish</td>\n",
       "      <td>2014</td>\n",
       "      <td>1</td>\n",
       "      <td>7</td>\n",
       "      <td>1</td>\n",
       "    </tr>\n",
       "    <tr>\n",
       "      <th>2014-04-02</th>\n",
       "      <td>1004</td>\n",
       "      <td>2/04/2014</td>\n",
       "      <td>pip fruit</td>\n",
       "      <td>2014</td>\n",
       "      <td>4</td>\n",
       "      <td>2</td>\n",
       "      <td>2</td>\n",
       "    </tr>\n",
       "    <tr>\n",
       "      <th>2014-04-02</th>\n",
       "      <td>1004</td>\n",
       "      <td>2/04/2014</td>\n",
       "      <td>whole milk</td>\n",
       "      <td>2014</td>\n",
       "      <td>4</td>\n",
       "      <td>2</td>\n",
       "      <td>2</td>\n",
       "    </tr>\n",
       "    <tr>\n",
       "      <th>2014-04-02</th>\n",
       "      <td>1004</td>\n",
       "      <td>2/04/2014</td>\n",
       "      <td>tropical fruit</td>\n",
       "      <td>2014</td>\n",
       "      <td>4</td>\n",
       "      <td>2</td>\n",
       "      <td>2</td>\n",
       "    </tr>\n",
       "    <tr>\n",
       "      <th>2014-08-19</th>\n",
       "      <td>1004</td>\n",
       "      <td>19/08/2014</td>\n",
       "      <td>root vegetables</td>\n",
       "      <td>2014</td>\n",
       "      <td>8</td>\n",
       "      <td>19</td>\n",
       "      <td>1</td>\n",
       "    </tr>\n",
       "    <tr>\n",
       "      <th>2014-08-19</th>\n",
       "      <td>1004</td>\n",
       "      <td>19/08/2014</td>\n",
       "      <td>whole milk</td>\n",
       "      <td>2014</td>\n",
       "      <td>8</td>\n",
       "      <td>19</td>\n",
       "      <td>1</td>\n",
       "    </tr>\n",
       "    <tr>\n",
       "      <th>2014-08-19</th>\n",
       "      <td>1004</td>\n",
       "      <td>19/08/2014</td>\n",
       "      <td>pastry</td>\n",
       "      <td>2014</td>\n",
       "      <td>8</td>\n",
       "      <td>19</td>\n",
       "      <td>1</td>\n",
       "    </tr>\n",
       "    <tr>\n",
       "      <th>2014-10-06</th>\n",
       "      <td>1004</td>\n",
       "      <td>6/10/2014</td>\n",
       "      <td>rolls/buns</td>\n",
       "      <td>2014</td>\n",
       "      <td>10</td>\n",
       "      <td>6</td>\n",
       "      <td>0</td>\n",
       "    </tr>\n",
       "    <tr>\n",
       "      <th>2014-10-06</th>\n",
       "      <td>1004</td>\n",
       "      <td>6/10/2014</td>\n",
       "      <td>red/blush wine</td>\n",
       "      <td>2014</td>\n",
       "      <td>10</td>\n",
       "      <td>6</td>\n",
       "      <td>0</td>\n",
       "    </tr>\n",
       "    <tr>\n",
       "      <th>2014-10-06</th>\n",
       "      <td>1004</td>\n",
       "      <td>6/10/2014</td>\n",
       "      <td>chocolate</td>\n",
       "      <td>2014</td>\n",
       "      <td>10</td>\n",
       "      <td>6</td>\n",
       "      <td>0</td>\n",
       "    </tr>\n",
       "    <tr>\n",
       "      <th>2014-10-07</th>\n",
       "      <td>1004</td>\n",
       "      <td>7/10/2014</td>\n",
       "      <td>other vegetables</td>\n",
       "      <td>2014</td>\n",
       "      <td>10</td>\n",
       "      <td>7</td>\n",
       "      <td>1</td>\n",
       "    </tr>\n",
       "    <tr>\n",
       "      <th>2014-10-07</th>\n",
       "      <td>1004</td>\n",
       "      <td>7/10/2014</td>\n",
       "      <td>shopping bags</td>\n",
       "      <td>2014</td>\n",
       "      <td>10</td>\n",
       "      <td>7</td>\n",
       "      <td>1</td>\n",
       "    </tr>\n",
       "    <tr>\n",
       "      <th>2014-10-13</th>\n",
       "      <td>1004</td>\n",
       "      <td>13/10/2014</td>\n",
       "      <td>whole milk</td>\n",
       "      <td>2014</td>\n",
       "      <td>10</td>\n",
       "      <td>13</td>\n",
       "      <td>0</td>\n",
       "    </tr>\n",
       "    <tr>\n",
       "      <th>2014-10-13</th>\n",
       "      <td>1004</td>\n",
       "      <td>13/10/2014</td>\n",
       "      <td>chocolate</td>\n",
       "      <td>2014</td>\n",
       "      <td>10</td>\n",
       "      <td>13</td>\n",
       "      <td>0</td>\n",
       "    </tr>\n",
       "    <tr>\n",
       "      <th>2014-10-13</th>\n",
       "      <td>1004</td>\n",
       "      <td>13/10/2014</td>\n",
       "      <td>packaged fruit/vegetables</td>\n",
       "      <td>2014</td>\n",
       "      <td>10</td>\n",
       "      <td>13</td>\n",
       "      <td>0</td>\n",
       "    </tr>\n",
       "    <tr>\n",
       "      <th>2014-10-13</th>\n",
       "      <td>1004</td>\n",
       "      <td>13/10/2014</td>\n",
       "      <td>rolls/buns</td>\n",
       "      <td>2014</td>\n",
       "      <td>10</td>\n",
       "      <td>13</td>\n",
       "      <td>0</td>\n",
       "    </tr>\n",
       "  </tbody>\n",
       "</table>\n",
       "</div>"
      ],
      "text/plain": [
       "            User_id        Date            itemDescription  year  month  day  \\\n",
       "datetime                                                                       \n",
       "2014-01-05     1004   5/01/2014               dish cleaner  2014      1    5   \n",
       "2014-01-05     1004   5/01/2014            cling film/bags  2014      1    5   \n",
       "2014-01-07     1004   7/01/2014                canned beer  2014      1    7   \n",
       "2014-01-07     1004   7/01/2014                frozen fish  2014      1    7   \n",
       "2014-04-02     1004   2/04/2014                  pip fruit  2014      4    2   \n",
       "2014-04-02     1004   2/04/2014                 whole milk  2014      4    2   \n",
       "2014-04-02     1004   2/04/2014             tropical fruit  2014      4    2   \n",
       "2014-08-19     1004  19/08/2014            root vegetables  2014      8   19   \n",
       "2014-08-19     1004  19/08/2014                 whole milk  2014      8   19   \n",
       "2014-08-19     1004  19/08/2014                     pastry  2014      8   19   \n",
       "2014-10-06     1004   6/10/2014                 rolls/buns  2014     10    6   \n",
       "2014-10-06     1004   6/10/2014             red/blush wine  2014     10    6   \n",
       "2014-10-06     1004   6/10/2014                  chocolate  2014     10    6   \n",
       "2014-10-07     1004   7/10/2014           other vegetables  2014     10    7   \n",
       "2014-10-07     1004   7/10/2014              shopping bags  2014     10    7   \n",
       "2014-10-13     1004  13/10/2014                 whole milk  2014     10   13   \n",
       "2014-10-13     1004  13/10/2014                  chocolate  2014     10   13   \n",
       "2014-10-13     1004  13/10/2014  packaged fruit/vegetables  2014     10   13   \n",
       "2014-10-13     1004  13/10/2014                 rolls/buns  2014     10   13   \n",
       "\n",
       "            day_of_week  \n",
       "datetime                 \n",
       "2014-01-05            6  \n",
       "2014-01-05            6  \n",
       "2014-01-07            1  \n",
       "2014-01-07            1  \n",
       "2014-04-02            2  \n",
       "2014-04-02            2  \n",
       "2014-04-02            2  \n",
       "2014-08-19            1  \n",
       "2014-08-19            1  \n",
       "2014-08-19            1  \n",
       "2014-10-06            0  \n",
       "2014-10-06            0  \n",
       "2014-10-06            0  \n",
       "2014-10-07            1  \n",
       "2014-10-07            1  \n",
       "2014-10-13            0  \n",
       "2014-10-13            0  \n",
       "2014-10-13            0  \n",
       "2014-10-13            0  "
      ]
     },
     "execution_count": 68,
     "metadata": {},
     "output_type": "execute_result"
    }
   ],
   "source": [
    "df[df[\"User_id\"] == 1004]"
   ]
  },
  {
   "cell_type": "markdown",
   "id": "6e766542",
   "metadata": {},
   "source": [
    "### Reflection"
   ]
  },
  {
   "cell_type": "markdown",
   "id": "2abd7561",
   "metadata": {},
   "source": [
    "**Code Version**: version01\n",
    "\n",
    "* **Stages**: Analyst, Visualized data, Preprocessed data and Implemented base model\n",
    "* **Progress & Results**: Performed analysis, reseach collaborative filtering methods and implement the first base model.\n",
    "* **Reflection**: I learned how to analyze transaction data. During data preprocessing, I found that the user-item matrix had many missing values, so I researched the method of handling them. As the dataset is implicit feedback, the missing value can be treated as zero to indicate that there is zero purchasing on that item (Yifan Hu, Koren, Y & Volinsky, C 2008). The first base model used the AlternatingLeastSquares approach.\n",
    "\n",
    "**Summarize Progress Table** \n",
    "\n",
    "| Code Version | Progress & Results                                                                         |\n",
    "|:-------------|:-------------------------------------------------------------------------------------------|\n",
    "|version01     |Performed analysis, reseach collaborative filtering methods and implement the first base model.|"
   ]
  },
  {
   "cell_type": "markdown",
   "id": "b1af9fe0",
   "metadata": {},
   "source": [
    "### References"
   ]
  },
  {
   "cell_type": "markdown",
   "id": "8efe066f",
   "metadata": {},
   "source": [
    "| Contribution Part | Reference                  |Citation                                                  |\n",
    "|:------------------|:---------------------------|:---------------------------------------------------------|\n",
    "|Data Preprocessing|Users & Items Matrix|Zaishan Weng 2023, 'Quick start guide to build a Collaborative Filtering Recommendation System with implicit library in 4 steps', medium, accessed 23 April 2025,<https://medium.com/@zaishanweng/quick-start-guide-to-build-a-collaborative-filtering-recommendation-system-with-implicit-library-in-c5e79e35dfb8>|\n",
    "|Data Preprocessing|Data Sparse|Yuki Shizuya 2024, 'Detailed explanation about Collaborative filtering with Python examples', medium, accessed 23 April 2025,<https://medium.com/@ichigo.v.gen12/detailed-explanation-about-collaborative-filtering-eab116e3b28b>|\n",
    "|Model Implementation|Implicit feedback|Yao-Ting(Teddy) 2019,'Implicit Feedback Recommendation System (II) — Collaborative Filtering', medium, accessed 23 April 2025,<https://medium.com/@teddywang0202/implicit-feedback-recommendation-system-ii-collaborative-filtering-27be600197f1>|\n",
    "|Model Implementation|Implicit feedback|Yifan Hu, Koren, Y & Volinsky, C 2008, ‘Collaborative Filtering for Implicit Feedback Datasets’, in 2008 Eighth IEEE International Conference on Data Mining, IEEE, pp. 263–272.|\n",
    "|Machine Learning|Implicit Library|implicit library, https://benfred.github.io/implicit/index.html|\n",
    "|Machine Learning   |OpenAI ChatGPT|OpenAI’s ChatGPT, personal communication, <https://chatgpt.com/>|"
   ]
  },
  {
   "cell_type": "markdown",
   "id": "517494d1",
   "metadata": {},
   "source": []
  }
 ],
 "metadata": {
  "kernelspec": {
   "display_name": "base",
   "language": "python",
   "name": "python3"
  },
  "language_info": {
   "codemirror_mode": {
    "name": "ipython",
    "version": 3
   },
   "file_extension": ".py",
   "mimetype": "text/x-python",
   "name": "python",
   "nbconvert_exporter": "python",
   "pygments_lexer": "ipython3",
   "version": "3.11.5"
  }
 },
 "nbformat": 4,
 "nbformat_minor": 5
}
