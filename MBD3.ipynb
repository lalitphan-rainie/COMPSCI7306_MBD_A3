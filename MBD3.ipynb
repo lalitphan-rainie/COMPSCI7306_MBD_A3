{
  "nbformat": 4,
  "nbformat_minor": 0,
  "metadata": {
    "colab": {
      "provenance": []
    },
    "kernelspec": {
      "name": "python3",
      "display_name": "Python 3"
    },
    "language_info": {
      "name": "python"
    }
  },
  "cells": [
    {
      "cell_type": "code",
      "execution_count": 36,
      "metadata": {
        "colab": {
          "base_uri": "https://localhost:8080/"
        },
        "id": "kvL_J5VNHhnT",
        "outputId": "d91dc97e-fd28-472c-ff7d-914a6d663e99"
      },
      "outputs": [
        {
          "output_type": "stream",
          "name": "stdout",
          "text": [
            "First few rows of the raw data:\n",
            "   User_id       Date itemDescription    year  month  day  day_of_week\n",
            "0   2351.0  1/01/2014         cleaner  2014.0    1.0  1.0          2.0\n",
            "1   2226.0  1/01/2014         sausage  2014.0    1.0  1.0          2.0\n",
            "2   1922.0  1/01/2014  tropical fruit  2014.0    1.0  1.0          2.0\n",
            "3   2943.0  1/01/2014      whole milk  2014.0    1.0  1.0          2.0\n",
            "4   1249.0  1/01/2014    citrus fruit  2014.0    1.0  1.0          2.0\n"
          ]
        }
      ],
      "source": [
        "from mlxtend.preprocessing import TransactionEncoder\n",
        "from mlxtend.frequent_patterns import apriori, association_rules\n",
        "from mlxtend.frequent_patterns import fpmax, fpgrowth\n",
        "import pandas as pd\n",
        "\n",
        "data = pd.read_csv('Groceries data train.csv')\n",
        "print(\"First few rows of the raw data:\")\n",
        "print(data.head())\n",
        "\n"
      ]
    },
    {
      "cell_type": "code",
      "source": [
        "\n",
        "# data.fillna(0, inplace=True)\n",
        "data.fillna('', inplace=True)\n"
      ],
      "metadata": {
        "colab": {
          "base_uri": "https://localhost:8080/"
        },
        "id": "h9KPSJ7SJmJ8",
        "outputId": "9b54baac-3c25-4d71-de6e-614616f0989d"
      },
      "execution_count": 37,
      "outputs": [
        {
          "output_type": "stream",
          "name": "stderr",
          "text": [
            "<ipython-input-37-4d7fd73eb621>:2: FutureWarning: Setting an item of incompatible dtype is deprecated and will raise an error in a future version of pandas. Value '' has dtype incompatible with float64, please explicitly cast to a compatible dtype first.\n",
            "  data.fillna('', inplace=True)\n"
          ]
        }
      ]
    },
    {
      "cell_type": "code",
      "source": [
        "# Group the Data into Transactions by User_id and Date\n",
        "grouped = data.groupby(['User_id', 'Date'])['itemDescription'].apply(list).reset_index()\n",
        "\n",
        "# Extract the list of transactions\n",
        "transactions = grouped['itemDescription'].tolist()\n",
        "\n",
        "print(\"\\nTotal number of transactions:\", len(transactions))\n",
        "print(\"\\nSample transactions\")\n",
        "for t in transactions[:5]:\n",
        "    print(t)"
      ],
      "metadata": {
        "colab": {
          "base_uri": "https://localhost:8080/"
        },
        "id": "X2gycu0HS8Yl",
        "outputId": "f6366657-1dbc-4d8f-cc15-5c92f0ecee85"
      },
      "execution_count": 38,
      "outputs": [
        {
          "output_type": "stream",
          "name": "stdout",
          "text": [
            "\n",
            "Total number of transactions: 8362\n",
            "\n",
            "Sample transactions\n",
            "['whole milk', 'pastry', 'salty snack']\n",
            "['whole milk', 'soda']\n",
            "['sausage', 'whole milk', 'rolls/buns']\n",
            "['frankfurter', 'soda']\n",
            "['frozen vegetables', 'other vegetables']\n"
          ]
        }
      ]
    },
    {
      "cell_type": "code",
      "source": [
        "#One-Hot Encode the Transaction Data\n",
        "te = TransactionEncoder()\n",
        "te_array = te.fit(transactions).transform(transactions)\n",
        "df_encoded = pd.DataFrame(te_array, columns=te.columns_)\n",
        "\n",
        "print(\"\\nOne-hot encoded DataFrame preview:\")\n",
        "print(df_encoded.head())"
      ],
      "metadata": {
        "colab": {
          "base_uri": "https://localhost:8080/"
        },
        "id": "ba9GWQ9tTfpb",
        "outputId": "fd026bc1-c102-4f00-aab0-2c0ba432ab3e"
      },
      "execution_count": 39,
      "outputs": [
        {
          "output_type": "stream",
          "name": "stdout",
          "text": [
            "\n",
            "One-hot encoded DataFrame preview:\n",
            "          Instant food products  UHT-milk  abrasive cleaner  artif. sweetener  \\\n",
            "0  False                  False     False             False             False   \n",
            "1  False                  False     False             False             False   \n",
            "2  False                  False     False             False             False   \n",
            "3  False                  False     False             False             False   \n",
            "4  False                  False     False             False             False   \n",
            "\n",
            "   baby cosmetics   bags  baking powder  bathroom cleaner   beef  ...  turkey  \\\n",
            "0           False  False          False             False  False  ...   False   \n",
            "1           False  False          False             False  False  ...   False   \n",
            "2           False  False          False             False  False  ...   False   \n",
            "3           False  False          False             False  False  ...   False   \n",
            "4           False  False          False             False  False  ...   False   \n",
            "\n",
            "   vinegar  waffles  whipped/sour cream  whisky  white bread  white wine  \\\n",
            "0    False    False               False   False        False       False   \n",
            "1    False    False               False   False        False       False   \n",
            "2    False    False               False   False        False       False   \n",
            "3    False    False               False   False        False       False   \n",
            "4    False    False               False   False        False       False   \n",
            "\n",
            "   whole milk  yogurt  zwieback  \n",
            "0        True   False     False  \n",
            "1        True   False     False  \n",
            "2        True   False     False  \n",
            "3       False   False     False  \n",
            "4       False   False     False  \n",
            "\n",
            "[5 rows x 168 columns]\n"
          ]
        }
      ]
    },
    {
      "cell_type": "code",
      "source": [
        "# Frequent Itemset Mining using Apriori\n",
        "\n",
        "frequent_itemsets_apriori = apriori(df_encoded, min_support=0.05, use_colnames=True)\n",
        "\n",
        "if frequent_itemsets_apriori.empty:\n",
        "    print(\"No frequent itemsets found.\")\n",
        "else:\n",
        "    print(\"Frequent Itemsets:\")\n",
        "    print(frequent_itemsets_apriori)\n",
        "\n",
        "    #Generate Association Rules\n",
        "    rules_apriori = association_rules(frequent_itemsets_apriori, metric=\"confidence\", min_threshold=0.2)\n",
        "    print(\"Association Rules:\")\n",
        "    print(rules_apriori)"
      ],
      "metadata": {
        "colab": {
          "base_uri": "https://localhost:8080/"
        },
        "id": "x1Cv5mJuTo7X",
        "outputId": "5eb843a9-c3d7-4bd2-b20b-6ad0c31ebb3a"
      },
      "execution_count": 40,
      "outputs": [
        {
          "output_type": "stream",
          "name": "stdout",
          "text": [
            "Frequent Itemsets:\n",
            "    support            itemsets\n",
            "0  0.060751     (bottled water)\n",
            "1  0.106673  (other vegetables)\n",
            "2  0.101890        (rolls/buns)\n",
            "3  0.060392   (root vegetables)\n",
            "4  0.052739     (shopping bags)\n",
            "5  0.094595              (soda)\n",
            "6  0.130471        (whole milk)\n",
            "7  0.078570            (yogurt)\n",
            "Association Rules:\n",
            "Empty DataFrame\n",
            "Columns: [antecedents, consequents, antecedent support, consequent support, support, confidence, lift, representativity, leverage, conviction, zhangs_metric, jaccard, certainty, kulczynski]\n",
            "Index: []\n"
          ]
        }
      ]
    },
    {
      "cell_type": "code",
      "source": [
        "# Frequent Itemset Mining using FP-growth\n",
        "frequent_itemsets_fp = fpgrowth(df_encoded, min_support=0.05, use_colnames=True)\n",
        "if frequent_itemsets_fp.empty:\n",
        "    print(\"No frequent itemsets found.\")\n",
        "else:\n",
        "    print(\"Frequent Itemsets (FP-growth):\")\n",
        "    print(frequent_itemsets_fp)\n",
        "\n",
        "    rules_fp = association_rules(frequent_itemsets_fp, metric=\"confidence\", min_threshold=0.2)\n",
        "    print(\"Association Rules:\")\n",
        "    print(rules_fp)\n"
      ],
      "metadata": {
        "colab": {
          "base_uri": "https://localhost:8080/"
        },
        "id": "vy5Gzdq0T4Qf",
        "outputId": "3a461937-7600-4e7c-c8cf-f4780591b99f"
      },
      "execution_count": 41,
      "outputs": [
        {
          "output_type": "stream",
          "name": "stdout",
          "text": [
            "Frequent Itemsets (FP-growth):\n",
            "    support            itemsets\n",
            "0  0.130471        (whole milk)\n",
            "1  0.094595              (soda)\n",
            "2  0.101890        (rolls/buns)\n",
            "3  0.106673  (other vegetables)\n",
            "4  0.060392   (root vegetables)\n",
            "5  0.052739     (shopping bags)\n",
            "6  0.060751     (bottled water)\n",
            "7  0.078570            (yogurt)\n",
            "Association Rules:\n",
            "Empty DataFrame\n",
            "Columns: [antecedents, consequents, antecedent support, consequent support, support, confidence, lift, representativity, leverage, conviction, zhangs_metric, jaccard, certainty, kulczynski]\n",
            "Index: []\n"
          ]
        }
      ]
    },
    {
      "cell_type": "code",
      "source": [],
      "metadata": {
        "id": "7kyc6gNrRJFF"
      },
      "execution_count": 41,
      "outputs": []
    }
  ]
}