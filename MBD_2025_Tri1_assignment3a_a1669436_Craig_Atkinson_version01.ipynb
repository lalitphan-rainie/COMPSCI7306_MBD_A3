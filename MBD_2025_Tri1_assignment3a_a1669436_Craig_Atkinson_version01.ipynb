{
 "cells": [
  {
   "cell_type": "markdown",
   "metadata": {},
   "source": [
    "# Task 3: System integration and research\n",
    "## Craig Atkinson a1669436"
   ]
  },
  {
   "cell_type": "code",
   "execution_count": 8,
   "metadata": {},
   "outputs": [
    {
     "name": "stdout",
     "output_type": "stream",
     "text": [
      "Product Recommendation System\n",
      "item1\n",
      "item2\n",
      "item3\n",
      "item4\n",
      "item5\n"
     ]
    }
   ],
   "source": [
    "class Recommendations:\n",
    "    \"Usage: Runs a Terminal Text Interface and Product Recommendation System\"\n",
    "    \n",
    "    def __init__(self):\n",
    "        pass\n",
    "    \n",
    "    def pattern_mining(self):\n",
    "        #placeholder function for task1\n",
    "        frequencyList = {0:'item1'}\n",
    "        return frequencyList\n",
    "\n",
    "    def collaborative_filtering(self,user_id, use_patterns):\n",
    "        #placeholder function for task2\n",
    "        if use_patterns == 'with':\n",
    "            frequencyList= self.pattern_mining()\n",
    "        return ['item1','item2','item3','item4','item5']\n",
    "\n",
    "    def text_program(self):\n",
    "        \"Runs the Text Interface, which calls the other tasks\"\n",
    "        print(\"Product Recommendation System\")\n",
    "        \n",
    "        while True:\n",
    "            user_id_input = input(\"\\nEnter user ID \\n(or 'q' to quit): \")\n",
    "            if user_id_input.lower() == 'q':\n",
    "                break\n",
    "                \n",
    "            user_id = int(user_id_input)\n",
    "            method_input = input(\"With or Without frequent patterns?: (enter with/without)\")\n",
    "            use_patterns = method_input.lower()\n",
    "            \n",
    "            if use_patterns in ['with', 'without']:\n",
    "                recommendations = self.collaborative_filtering(user_id, use_patterns)\n",
    "                for item in recommendations:\n",
    "                    print(item)\n",
    "            else:\n",
    "                print('Please Only Enter with/without')\n",
    "\n",
    "if __name__ == \"__main__\":\n",
    "    recommend = Recommendations()\n",
    "    recommend.text_program()"
   ]
  }
 ],
 "metadata": {
  "kernelspec": {
   "display_name": "AIML",
   "language": "python",
   "name": "python3"
  },
  "language_info": {
   "codemirror_mode": {
    "name": "ipython",
    "version": 3
   },
   "file_extension": ".py",
   "mimetype": "text/x-python",
   "name": "python",
   "nbconvert_exporter": "python",
   "pygments_lexer": "ipython3",
   "version": "3.12.3"
  }
 },
 "nbformat": 4,
 "nbformat_minor": 2
}
